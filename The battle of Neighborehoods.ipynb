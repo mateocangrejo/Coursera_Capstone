{
    "cells": [
        {
            "cell_type": "markdown",
            "metadata": {
                "collapsed": true
            },
            "source": "# Optimum Neighborhoods to open an Italian restaurant in Toronto"
        },
        {
            "cell_type": "markdown",
            "metadata": {},
            "source": "# 1. Introduction/Business Problem"
        },
        {
            "cell_type": "markdown",
            "metadata": {},
            "source": "### 1.1. Description of the problem"
        },
        {
            "cell_type": "markdown",
            "metadata": {},
            "source": "The problem consist in identifying the optimum place to open an Italian restaurant in the city of Toronto, Canada. <br> \nThe target audience of this project are entrepreneurs of Italian food or owners of italian restaurants. <br>\nMore specifically, stakeholders who are interested in indentyfing the best Neighborhood candidates in Toronto to open a new Italian restaurant, so with the best group of candidates decide finally where to open it. "
        },
        {
            "cell_type": "markdown",
            "metadata": {},
            "source": "### 1.2. Discussion of the background"
        },
        {
            "cell_type": "markdown",
            "metadata": {},
            "source": "One important aspect for a restaurant succes is the place where it is located. Of course, the food and service are very important, however the location can be as crucial specially in the early years. Therefore it is necessary to make a good analysis of the location, in a first step of the neighborhood, of the restaurant before starting the operation. Thats why the stakeholders would care about this project.  <br> \nSome key aspects to take into account for this analysis are:\n1. Parking.\n2. Visibility.\n3. Number of people who can pass near the restaurant.\n4. Income of the Neighborhood.\n5. Presence of near similiar restaurants.\n6. Presence of other business that can attract people to the restaurant: Stadiums, parks, theaters, medical majors.\n\n\n"
        },
        {
            "cell_type": "markdown",
            "metadata": {},
            "source": "# 2. Data"
        },
        {
            "cell_type": "markdown",
            "metadata": {},
            "source": "### 2.1. Data description"
        },
        {
            "cell_type": "markdown",
            "metadata": {},
            "source": "For this analysis the following data is going to be used:\n<ol>\n<li>List of Neighborhoods in toronto: from Wikipedia</li>\n<li>Latitude and longitude coordinates of neighborhoods: from Geospatial data </li> \n<li>Venues near every neighborhood: from Foursquare Api</li>\n<li>Population and income of each neighborhood: from Wikipedia demographic data</li>\n</ol>"
        },
        {
            "cell_type": "markdown",
            "metadata": {},
            "source": "### 2.2. Data usage"
        },
        {
            "cell_type": "markdown",
            "metadata": {},
            "source": "The data is going to be used in the following way to solve the problem: \n</ul>\n<li>The list of Neighborhoods and its coordinates data are going to be merged to identify the location of each neighborhood.</li>\n<li>The population and income data of each neighborhood is going to be also merged with the previous data.</li>\n<li>The venues data of every neighborhood is going to be clasified in the following way: Parking and presence of other business that can attract people to the restaurant (like stadiums, theaters, medical majors) are going to be count as type A and similar restuarants (Italian food) are going to be count as type B.  </li>\n<li>Finally, K-mean machine learning will be used to clauster the neighborhoods with this data: Population, Income, Type A venues and Type B venues. </li>\n</ul>\n\nWe propose that is a benefit to the new restaurant to have higher values in population, income, type A venues and lower in type B venues."
        },
        {
            "cell_type": "code",
            "execution_count": null,
            "metadata": {},
            "outputs": [],
            "source": ""
        }
    ],
    "metadata": {
        "kernelspec": {
            "display_name": "Python 3.6",
            "language": "python",
            "name": "python3"
        },
        "language_info": {
            "codemirror_mode": {
                "name": "ipython",
                "version": 3
            },
            "file_extension": ".py",
            "mimetype": "text/x-python",
            "name": "python",
            "nbconvert_exporter": "python",
            "pygments_lexer": "ipython3",
            "version": "3.6.9"
        }
    },
    "nbformat": 4,
    "nbformat_minor": 1
}